{
 "cells": [
  {
   "cell_type": "markdown",
   "metadata": {},
   "source": [
    "DLE305 - Assessment 3\n",
    "\n",
    "Saeed - Wang - Nguyen"
   ]
  },
  {
   "cell_type": "markdown",
   "metadata": {},
   "source": [
    "References\n",
    "\n",
    "https://www.kdnuggets.com/2019/07/convolutional-neural-networks-python-tutorial-tensorflow-keras.html\n",
    "\n",
    "https://github.com/StrikingLoo/Cats-and-dogs-classifier-tensorflow-CNN/blob/master/Convolutional_experiments.ipynb"
   ]
  },
  {
   "cell_type": "code",
   "execution_count": 1,
   "metadata": {},
   "outputs": [],
   "source": [
    "import tensorflow as tf\n",
    "import seaborn as sns\n",
    "import numpy as np\n",
    "import pandas as pd\n",
    "import matplotlib.pyplot as plt\n",
    "import scipy\n",
    "\n",
    "from PIL import Image\n",
    "import glob\n",
    "from collections import defaultdict\n",
    "from tensorflow import keras\n",
    "from tensorflow.keras import layers\n",
    "from sklearn.utils import shuffle\n",
    "from tensorflow.keras.utils import to_categorical\n",
    "from tensorflow.keras.applications import VGG16\n",
    "from tensorflow.keras.preprocessing.image import ImageDataGenerator\n",
    "from tensorflow.keras.layers import Dropout, BatchNormalization\n",
    "from tensorflow.keras.callbacks import EarlyStopping"
   ]
  },
  {
   "cell_type": "code",
   "execution_count": 2,
   "metadata": {},
   "outputs": [],
   "source": [
    "IMG_SIZE = (94, 125)\n",
    "def pixels_from_path(file_path):\n",
    "    im = Image.open(file_path)\n",
    "    \n",
    "    im = im.resize(IMG_SIZE)\n",
    "    np_im = np.array(im)\n",
    "    #matrix of pixel RGB values\n",
    "    return np_im"
   ]
  },
  {
   "cell_type": "code",
   "execution_count": 3,
   "metadata": {},
   "outputs": [
    {
     "name": "stdout",
     "output_type": "stream",
     "text": [
      "0\n",
      "100\n",
      "200\n",
      "300\n",
      "400\n",
      "500\n",
      "600\n",
      "700\n",
      "800\n",
      "900\n"
     ]
    }
   ],
   "source": [
    "shape_counts = defaultdict(int)\n",
    "for i, cat in enumerate(glob.glob('C:/Users/alisa/Desktop/images/train/images/train/cat*')[:1000]):\n",
    "    if i%100==0:\n",
    "        print(i)\n",
    "    img_shape = pixels_from_path(cat).shape\n",
    "    shape_counts[str(img_shape)]= shape_counts[str(img_shape)]+ 1"
   ]
  },
  {
   "cell_type": "code",
   "execution_count": 4,
   "metadata": {},
   "outputs": [],
   "source": [
    "shape_items = list(shape_counts.items())\n",
    "shape_items.sort(key = lambda x: x[1])\n",
    "shape_items.reverse()"
   ]
  },
  {
   "cell_type": "code",
   "execution_count": 5,
   "metadata": {},
   "outputs": [],
   "source": [
    "# 10% of the data will automatically be used for validation\n",
    "validation_size = 0.1\n",
    "img_size = IMG_SIZE # resize images to be 374x500 (most common shape)\n",
    "num_channels = 3 # RGB\n",
    "sample_size = 8192 #We'll use 8192 pictures (2**13)"
   ]
  },
  {
   "cell_type": "code",
   "execution_count": 40,
   "metadata": {},
   "outputs": [
    {
     "name": "stdout",
     "output_type": "stream",
     "text": [
      "loading training cat images...\n",
      "loading training dog images...\n",
      "loading training lion images...\n",
      "loading training tiger images...\n"
     ]
    }
   ],
   "source": [
    "SAMPLE_SIZE = 200\n",
    "print(\"loading training cat images...\")\n",
    "cat_train_set = np.asarray([pixels_from_path(cat) for cat in glob.glob('C:/Users/alisa/Desktop/images/train/images/train/cat*')[:SAMPLE_SIZE]])\n",
    "print(\"loading training dog images...\")\n",
    "dog_train_set = np.asarray([pixels_from_path(dog) for dog in glob.glob('C:/Users/alisa/Desktop/images/train/images/train/dog*')[:SAMPLE_SIZE]])\n",
    "print(\"loading training lion images...\")\n",
    "lion_train_set = np.asarray([pixels_from_path(lion) for lion in glob.glob('C:/Users/alisa/Desktop/images/train/images/train/lion*')[:SAMPLE_SIZE]])\n",
    "print(\"loading training tiger images...\")\n",
    "tiger_train_set = np.asarray([pixels_from_path(tiger) for tiger in glob.glob('C:/Users/alisa/Desktop/images/train/images/train/tiger*')[:SAMPLE_SIZE]])"
   ]
  },
  {
   "cell_type": "code",
   "execution_count": 41,
   "metadata": {},
   "outputs": [
    {
     "name": "stdout",
     "output_type": "stream",
     "text": [
      "loading validation cat images...\n",
      "loading validation dog images...\n",
      "loading validation lion images...\n",
      "loading validation tiger images...\n"
     ]
    }
   ],
   "source": [
    "valid_size = 40\n",
    "print(\"loading validation cat images...\")\n",
    "cat_valid_set = np.asarray([pixels_from_path(cat) for cat in glob.glob('C:/Users/alisa/Desktop/images/train/images/train/cat*')[-valid_size:]])\n",
    "print(\"loading validation dog images...\")\n",
    "dog_valid_set = np.asarray([pixels_from_path(dog) for dog in glob.glob('C:/Users/alisa/Desktop/images/train/images/train/dog*')[-valid_size:]])\n",
    "print(\"loading validation lion images...\")\n",
    "lion_valid_set = np.asarray([pixels_from_path(lion) for lion in glob.glob('C:/Users/alisa/Desktop/images/train/images/train/lion*')[-valid_size:]])\n",
    "print(\"loading validation tiger images...\")\n",
    "tiger_valid_set = np.asarray([pixels_from_path(tiger) for tiger in glob.glob('C:/Users/alisa/Desktop/images/train/images/train/tiger*')[-valid_size:]])"
   ]
  },
  {
   "cell_type": "markdown",
   "metadata": {},
   "source": [
    "===============================================================================================\n",
    "- Modified label assignment to accommodate multiple classes. Instead of using only 0 and 1 as labels, using class labels  0, 1, 2, and 3.\n",
    "- to_categorical: for use with multiple classes.\n",
    "- Combined the training and validation sets into x_all and labels_all arrays.\n",
    "- Changed the loss function to 'categorical_crossentropy' to handle the multi-class classification \n",
    "\n",
    "==============================================================================================="
   ]
  },
  {
   "cell_type": "code",
   "execution_count": 42,
   "metadata": {},
   "outputs": [],
   "source": [
    "x_train = np.concatenate([cat_train_set, dog_train_set, lion_train_set, tiger_train_set])\n",
    "labels_train = np.asarray([1 for _ in range(SAMPLE_SIZE)]+[0 for _ in range(SAMPLE_SIZE)] +[2 for _ in range(SAMPLE_SIZE)] +[3 for _ in range(SAMPLE_SIZE)])"
   ]
  },
  {
   "cell_type": "code",
   "execution_count": 43,
   "metadata": {},
   "outputs": [],
   "source": [
    "x_valid = np.concatenate([cat_valid_set, dog_valid_set, lion_valid_set, tiger_valid_set])\n",
    "labels_valid = np.asarray([1 for _ in range(valid_size)]+[0 for _ in range(valid_size)] +[2 for _ in range(valid_size)] +[3 for _ in range(valid_size)])"
   ]
  },
  {
   "cell_type": "code",
   "execution_count": 44,
   "metadata": {},
   "outputs": [],
   "source": [
    "# Combine train and validation sets\n",
    "x_all = np.concatenate([x_train, x_valid])\n",
    "labels_all = np.concatenate([labels_train, labels_valid])"
   ]
  },
  {
   "cell_type": "code",
   "execution_count": 45,
   "metadata": {},
   "outputs": [],
   "source": [
    "# Convert labels to categorical format\n",
    "num_classes = 4  # Number of classes: cat, dog, lion, tiger\n",
    "labels_categorical = to_categorical(labels_all, num_classes)"
   ]
  },
  {
   "cell_type": "markdown",
   "metadata": {},
   "source": [
    "# Run of the Mill"
   ]
  },
  {
   "cell_type": "code",
   "execution_count": 46,
   "metadata": {},
   "outputs": [],
   "source": [
    "from tensorflow import keras\n",
    "from tensorflow.keras import layers\n",
    "\n",
    "num_classes = 4  # Number of classes: cat, dog, lion, tiger\n",
    "\n",
    "total_pixels = img_size[0] * img_size[1] * 3\n",
    "fc_size = 512"
   ]
  },
  {
   "cell_type": "code",
   "execution_count": 47,
   "metadata": {},
   "outputs": [],
   "source": [
    "inputs = keras.Input(shape=(img_size[1], img_size[0], 3), name='ani_image')\n",
    "x = layers.Flatten(name='flattened_img')(inputs)  # Turn image to vector.\n",
    "x = layers.Dense(fc_size, activation='relu', name='first_layer')(x)\n",
    "outputs = layers.Dense(num_classes, activation='softmax', name='class')(x) "
   ]
  },
  {
   "cell_type": "code",
   "execution_count": 48,
   "metadata": {},
   "outputs": [
    {
     "name": "stdout",
     "output_type": "stream",
     "text": [
      "# Fit model on training data\n",
      "Epoch 1/10\n",
      "25/25 [==============================] - 2s 60ms/step - loss: 5339.7251 - accuracy: 0.3375 - val_loss: 1098.3080 - val_accuracy: 0.4125\n",
      "Epoch 2/10\n",
      "25/25 [==============================] - 1s 54ms/step - loss: 1368.8163 - accuracy: 0.3837 - val_loss: 2018.7653 - val_accuracy: 0.3625\n",
      "Epoch 3/10\n",
      "25/25 [==============================] - 1s 57ms/step - loss: 1138.2456 - accuracy: 0.4525 - val_loss: 3379.9995 - val_accuracy: 0.2500\n",
      "Epoch 4/10\n",
      "25/25 [==============================] - 1s 54ms/step - loss: 1833.2395 - accuracy: 0.3487 - val_loss: 1463.5938 - val_accuracy: 0.4625\n",
      "Epoch 5/10\n",
      "25/25 [==============================] - 1s 55ms/step - loss: 999.1973 - accuracy: 0.4575 - val_loss: 1130.6475 - val_accuracy: 0.3875\n",
      "Epoch 6/10\n",
      "25/25 [==============================] - 1s 56ms/step - loss: 823.5663 - accuracy: 0.4963 - val_loss: 909.8801 - val_accuracy: 0.3688\n",
      "Epoch 7/10\n",
      "25/25 [==============================] - 1s 52ms/step - loss: 508.7521 - accuracy: 0.5325 - val_loss: 733.0992 - val_accuracy: 0.4563\n",
      "Epoch 8/10\n",
      "25/25 [==============================] - 1s 53ms/step - loss: 839.8051 - accuracy: 0.4888 - val_loss: 1311.1969 - val_accuracy: 0.3250\n",
      "Epoch 9/10\n",
      "25/25 [==============================] - 1s 56ms/step - loss: 955.6381 - accuracy: 0.4837 - val_loss: 2909.0686 - val_accuracy: 0.3125\n",
      "Epoch 10/10\n",
      "25/25 [==============================] - 1s 53ms/step - loss: 2408.6208 - accuracy: 0.3575 - val_loss: 1513.7451 - val_accuracy: 0.4062\n"
     ]
    }
   ],
   "source": [
    "model = keras.Model(inputs=inputs, outputs=outputs)\n",
    "\n",
    "customAdam = tf.keras.optimizers.legacy.Adam(learning_rate=0.001)\n",
    "model.compile(optimizer=customAdam,\n",
    "              loss=\"categorical_crossentropy\",  # Categorical cross-entropy for multi-class\n",
    "              metrics=[\"accuracy\"])\n",
    "\n",
    "print('# Fit model on training data')\n",
    "\n",
    "# Convert labels to categorical format\n",
    "labels_train_categorical = to_categorical(labels_train, num_classes)\n",
    "labels_valid_categorical = to_categorical(labels_valid, num_classes)\n",
    "\n",
    "history = model.fit(x_train,\n",
    "                    labels_train_categorical,\n",
    "                    batch_size=32,\n",
    "                    shuffle=True,\n",
    "                    epochs=10,\n",
    "                    validation_data=(x_valid, labels_valid_categorical))"
   ]
  },
  {
   "cell_type": "code",
   "execution_count": 51,
   "metadata": {},
   "outputs": [
    {
     "name": "stdout",
     "output_type": "stream",
     "text": [
      "1/1 [==============================] - 0s 27ms/step\n"
     ]
    },
    {
     "data": {
      "image/png": "[encoded data removed]",
      "text/plain": [
       "<Figure size 600x600 with 1 Axes>"
      ]
     },
     "metadata": {},
     "output_type": "display_data"
    }
   ],
   "source": [
    "import matplotlib.pyplot as plt\n",
    "\n",
    "# Load and preprocess the test image\n",
    "test_image_path = 'C:/Users/alisa/Desktop/images/train/images/train/tiger144.jpg'  # Replace with the actual path\n",
    "test_image = pixels_from_path(test_image_path)\n",
    "test_image = test_image / 255.0  # Normalize pixel values\n",
    "\n",
    "# Make predictions using the model\n",
    "predictions = model.predict(test_image.reshape(1, *test_image.shape))\n",
    "\n",
    "# Interpret the results\n",
    "predicted_class = np.argmax(predictions)\n",
    "class_labels = ['cat', 'dog', 'lion', 'tiger']\n",
    "predicted_label = class_labels[predicted_class]\n",
    "\n",
    "# Display the test image and predicted label\n",
    "plt.figure(figsize=(6, 6))\n",
    "plt.imshow(test_image)\n",
    "plt.title(f\"Predicted: {predicted_label}\")\n",
    "plt.axis('off')\n",
    "plt.show()"
   ]
  },
  {
   "cell_type": "markdown",
   "metadata": {},
   "source": [
    "# Single Convolutional Layer"
   ]
  },
  {
   "cell_type": "code",
   "execution_count": 52,
   "metadata": {},
   "outputs": [],
   "source": [
    "fc_layer_size = 128\n",
    "img_size = IMG_SIZE\n",
    "\n",
    "conv_inputs = keras.Input(shape=(img_size[1], img_size[0], 3), name='ani_image')\n",
    "conv_layer = layers.Conv2D(24, kernel_size=3, activation='relu')(conv_inputs)\n",
    "conv_layer = layers.MaxPool2D(pool_size=(2, 2))(conv_layer)\n",
    "conv_x = layers.Flatten(name='flattened_features')(conv_layer)\n",
    "\n",
    "conv_x = layers.Dense(fc_layer_size, activation='relu', name='first_layer')(conv_x)\n",
    "conv_x = layers.Dense(fc_layer_size, activation='relu', name='second_layer')(conv_x)\n",
    "conv_outputs = layers.Dense(num_classes, activation='softmax', name='class')(conv_x)  # Softmax for multi-class\n",
    "\n",
    "conv_model = keras.Model(inputs=conv_inputs, outputs=conv_outputs)\n",
    "\n",
    "customAdam = keras.optimizers.Adam(learning_rate=1e-6)\n",
    "conv_model.compile(optimizer=customAdam,\n",
    "                   loss=\"categorical_crossentropy\",\n",
    "                   metrics=[\"accuracy\"])"
   ]
  },
  {
   "cell_type": "code",
   "execution_count": 53,
   "metadata": {},
   "outputs": [
    {
     "name": "stdout",
     "output_type": "stream",
     "text": [
      "# Fit model on training data\n",
      "Epoch 1/5\n",
      "25/25 [==============================] - 4s 125ms/step - loss: 19.6107 - accuracy: 0.2675 - val_loss: 15.1761 - val_accuracy: 0.2812\n",
      "Epoch 2/5\n",
      "25/25 [==============================] - 3s 116ms/step - loss: 12.4529 - accuracy: 0.3338 - val_loss: 12.5601 - val_accuracy: 0.3313\n",
      "Epoch 3/5\n",
      "25/25 [==============================] - 3s 118ms/step - loss: 10.4165 - accuracy: 0.3875 - val_loss: 10.2778 - val_accuracy: 0.3438\n",
      "Epoch 4/5\n",
      "25/25 [==============================] - 3s 110ms/step - loss: 9.2781 - accuracy: 0.4013 - val_loss: 9.7884 - val_accuracy: 0.3875\n",
      "Epoch 5/5\n",
      "25/25 [==============================] - 3s 112ms/step - loss: 8.2200 - accuracy: 0.4350 - val_loss: 8.6573 - val_accuracy: 0.3313\n"
     ]
    }
   ],
   "source": [
    "print('# Fit model on training data')\n",
    "\n",
    "history = conv_model.fit(x_train, \n",
    "                    labels_train_categorical,\n",
    "                    batch_size=32, \n",
    "                    shuffle = True,\n",
    "                    epochs=5,\n",
    "                    validation_data=(x_valid, labels_valid_categorical))"
   ]
  },
  {
   "cell_type": "code",
   "execution_count": 66,
   "metadata": {},
   "outputs": [],
   "source": [
    "# Load and preprocess the test image\n",
    "test_image_path = 'C:/Users/alisa/Desktop/images/train/images/train/dog.5332.jpg'\n",
    "test_image = pixels_from_path(test_image_path)\n",
    "test_image = test_image.reshape(1, *test_image.shape)  # Reshape to match model input shape\n",
    "test_image = test_image / 255.0  # Normalize pixel values"
   ]
  },
  {
   "cell_type": "code",
   "execution_count": 67,
   "metadata": {},
   "outputs": [
    {
     "name": "stdout",
     "output_type": "stream",
     "text": [
      "1/1 [==============================] - 0s 21ms/step\n"
     ]
    }
   ],
   "source": [
    "predictions = conv_model.predict(test_image)"
   ]
  },
  {
   "cell_type": "code",
   "execution_count": 68,
   "metadata": {},
   "outputs": [],
   "source": [
    "# Interpret the results\n",
    "predicted_class = np.argmax(predictions)\n",
    "class_labels = ['cat', 'dog', 'lion', 'tiger']\n",
    "predicted_label = class_labels[predicted_class]"
   ]
  },
  {
   "cell_type": "code",
   "execution_count": 69,
   "metadata": {},
   "outputs": [
    {
     "data": {
      "image/png": "[encoded data removed]",
      "text/plain": [
       "<Figure size 600x600 with 1 Axes>"
      ]
     },
     "metadata": {},
     "output_type": "display_data"
    }
   ],
   "source": [
    "# Display the test image and predicted label\n",
    "plt.figure(figsize=(6, 6))\n",
    "plt.imshow(test_image[0])\n",
    "plt.title(f\"Predicted: {predicted_label}\")\n",
    "plt.axis('off')\n",
    "plt.show()"
   ]
  },
  {
   "cell_type": "markdown",
   "metadata": {},
   "source": [
    "# Bigger Convolutional Model"
   ]
  },
  {
   "cell_type": "code",
   "execution_count": 73,
   "metadata": {},
   "outputs": [],
   "source": [
    "fc_layer_size = 256\n",
    "img_size = IMG_SIZE\n",
    "\n",
    "conv_inputs = keras.Input(shape=(img_size[1], img_size[0], 3), name='ani_image')\n",
    "conv_layer = layers.Conv2D(48, kernel_size=3, activation='relu')(conv_inputs)\n",
    "conv_layer = layers.MaxPool2D(pool_size=(2, 2))(conv_layer)\n",
    "\n",
    "conv_layer = layers.Conv2D(48, kernel_size=3, activation='relu')(conv_layer)\n",
    "conv_layer = layers.MaxPool2D(pool_size=(2, 2))(conv_layer)\n",
    "\n",
    "conv_x = layers.Flatten(name='flattened_features')(conv_layer)\n",
    "\n",
    "conv_x = layers.Dense(fc_layer_size, activation='relu', name='first_layer')(conv_x)\n",
    "conv_x = layers.Dense(fc_layer_size, activation='relu', name='second_layer')(conv_x)\n",
    "conv_outputs = layers.Dense(num_classes, activation='softmax', name='class')(conv_x)  # Softmax for multi-class\n",
    "\n",
    "conv_model = keras.Model(inputs=conv_inputs, outputs=conv_outputs)\n",
    "\n",
    "customAdam = keras.optimizers.Adam(learning_rate=1e-6)\n",
    "conv_model.compile(optimizer=customAdam,\n",
    "                   loss=\"categorical_crossentropy\",  # Use categorical cross-entropy for multi-class\n",
    "                   metrics=[\"accuracy\"])"
   ]
  },
  {
   "cell_type": "code",
   "execution_count": 74,
   "metadata": {},
   "outputs": [
    {
     "name": "stdout",
     "output_type": "stream",
     "text": [
      "# Fit model on training data\n",
      "Epoch 1/15\n",
      "13/13 [==============================] - 6s 388ms/step - loss: 11.9287 - accuracy: 0.2962 - val_loss: 7.6733 - val_accuracy: 0.2812\n",
      "Epoch 2/15\n",
      "13/13 [==============================] - 5s 359ms/step - loss: 7.7582 - accuracy: 0.2912 - val_loss: 7.0612 - val_accuracy: 0.3375\n",
      "Epoch 3/15\n",
      "13/13 [==============================] - 5s 356ms/step - loss: 6.5714 - accuracy: 0.3113 - val_loss: 6.2443 - val_accuracy: 0.3562\n",
      "Epoch 4/15\n",
      "13/13 [==============================] - 5s 350ms/step - loss: 5.9565 - accuracy: 0.3237 - val_loss: 5.8113 - val_accuracy: 0.3438\n",
      "Epoch 5/15\n",
      "13/13 [==============================] - 5s 352ms/step - loss: 5.3903 - accuracy: 0.3475 - val_loss: 5.3478 - val_accuracy: 0.3438\n",
      "Epoch 6/15\n",
      "13/13 [==============================] - 4s 341ms/step - loss: 5.0207 - accuracy: 0.3713 - val_loss: 5.1012 - val_accuracy: 0.3438\n",
      "Epoch 7/15\n",
      "13/13 [==============================] - 4s 340ms/step - loss: 4.6666 - accuracy: 0.3800 - val_loss: 4.7285 - val_accuracy: 0.3750\n",
      "Epoch 8/15\n",
      "13/13 [==============================] - 5s 373ms/step - loss: 4.3640 - accuracy: 0.3938 - val_loss: 4.5010 - val_accuracy: 0.4000\n",
      "Epoch 9/15\n",
      "13/13 [==============================] - 4s 335ms/step - loss: 4.1941 - accuracy: 0.3938 - val_loss: 4.3281 - val_accuracy: 0.4375\n",
      "Epoch 10/15\n",
      "13/13 [==============================] - 5s 359ms/step - loss: 3.9344 - accuracy: 0.4087 - val_loss: 4.1869 - val_accuracy: 0.4375\n",
      "Epoch 11/15\n",
      "13/13 [==============================] - 4s 337ms/step - loss: 3.7155 - accuracy: 0.4187 - val_loss: 4.0503 - val_accuracy: 0.4250\n",
      "Epoch 12/15\n",
      "13/13 [==============================] - 4s 344ms/step - loss: 3.5515 - accuracy: 0.4313 - val_loss: 3.9587 - val_accuracy: 0.4125\n",
      "Epoch 13/15\n",
      "13/13 [==============================] - 4s 333ms/step - loss: 3.3830 - accuracy: 0.4313 - val_loss: 3.8475 - val_accuracy: 0.4500\n",
      "Epoch 14/15\n",
      "13/13 [==============================] - 5s 348ms/step - loss: 3.2593 - accuracy: 0.4550 - val_loss: 3.7604 - val_accuracy: 0.4375\n",
      "Epoch 15/15\n",
      "13/13 [==============================] - 4s 336ms/step - loss: 3.1564 - accuracy: 0.4613 - val_loss: 3.6237 - val_accuracy: 0.4125\n"
     ]
    }
   ],
   "source": [
    "print('# Fit model on training data')\n",
    "\n",
    "history = conv_model.fit(x_train, \n",
    "                    labels_train_categorical,\n",
    "                    batch_size=64, \n",
    "                    shuffle = True,\n",
    "                    epochs=15,\n",
    "                    validation_data=(x_valid, labels_valid_categorical))"
   ]
  },
  {
   "cell_type": "code",
   "execution_count": 75,
   "metadata": {},
   "outputs": [],
   "source": [
    "# Load and preprocess the test image\n",
    "test_image_path = 'C:/Users/alisa/Desktop/images/train/images/train/dog.1256.jpg'\n",
    "test_image = pixels_from_path(test_image_path)\n",
    "test_image = test_image.reshape(1, *test_image.shape)  # Reshape to match model input shape\n",
    "test_image = test_image / 255.0  # Normalize pixel values"
   ]
  },
  {
   "cell_type": "code",
   "execution_count": 76,
   "metadata": {},
   "outputs": [
    {
     "name": "stdout",
     "output_type": "stream",
     "text": [
      "WARNING:tensorflow:5 out of the last 20 calls to <function Model.make_predict_function.<locals>.predict_function at 0x000001C1A704CC10> triggered tf.function retracing. Tracing is expensive and the excessive number of tracings could be due to (1) creating @tf.function repeatedly in a loop, (2) passing tensors with different shapes, (3) passing Python objects instead of tensors. For (1), please define your @tf.function outside of the loop. For (2), @tf.function has reduce_retracing=True option that can avoid unnecessary retracing. For (3), please refer to https://www.tensorflow.org/guide/function#controlling_retracing and https://www.tensorflow.org/api_docs/python/tf/function for  more details.\n",
      "1/1 [==============================] - 0s 60ms/step\n"
     ]
    }
   ],
   "source": [
    "predictions = conv_model.predict(test_image)"
   ]
  },
  {
   "cell_type": "code",
   "execution_count": 77,
   "metadata": {},
   "outputs": [],
   "source": [
    "# Interpret the results\n",
    "predicted_class = np.argmax(predictions)\n",
    "class_labels = ['cat', 'dog', 'lion', 'tiger']\n",
    "predicted_label = class_labels[predicted_class]"
   ]
  },
  {
   "cell_type": "code",
   "execution_count": 78,
   "metadata": {},
   "outputs": [
    {
     "data": {
      "image/png": "[encoded data removed]",
      "text/plain": [
       "<Figure size 600x600 with 1 Axes>"
      ]
     },
     "metadata": {},
     "output_type": "display_data"
    }
   ],
   "source": [
    "# Display the test image and predicted label\n",
    "plt.figure(figsize=(6, 6))\n",
    "plt.imshow(test_image[0])\n",
    "plt.title(f\"Predicted: {predicted_label}\")\n",
    "plt.axis('off')\n",
    "plt.show()"
   ]
  },
  {
   "cell_type": "markdown",
   "metadata": {},
   "source": [
    "# Huge Model"
   ]
  },
  {
   "cell_type": "code",
   "execution_count": 80,
   "metadata": {},
   "outputs": [],
   "source": [
    "fc_layer_size = 256\n",
    "img_size = IMG_SIZE\n",
    "\n",
    "conv_inputs = keras.Input(shape=(img_size[1], img_size[0], 3), name='ani_image')\n",
    "conv_layer = layers.Conv2D(128, kernel_size=3, activation='relu')(conv_inputs)\n",
    "conv_layer = layers.MaxPool2D(pool_size=(2, 2))(conv_layer)\n",
    "\n",
    "conv_layer = layers.Conv2D(128, kernel_size=3, activation='relu')(conv_layer)\n",
    "conv_layer = layers.MaxPool2D(pool_size=(2, 2))(conv_layer)\n",
    "\n",
    "conv_x = layers.Flatten(name='flattened_features')(conv_layer)\n",
    "\n",
    "conv_x = layers.Dense(fc_layer_size, activation='relu', name='first_layer')(conv_x)\n",
    "conv_x = layers.Dense(fc_layer_size, activation='relu', name='second_layer')(conv_x)\n",
    "conv_outputs = layers.Dense(num_classes, activation='softmax', name='class')(conv_x)  # Softmax for multi-class\n",
    "\n",
    "huge_conv_model = keras.Model(inputs=conv_inputs, outputs=conv_outputs)\n",
    "\n",
    "customAdam = keras.optimizers.Adam(learning_rate=1e-6)\n",
    "huge_conv_model.compile(optimizer=customAdam,\n",
    "                        loss=\"categorical_crossentropy\",  # Use categorical cross-entropy for multi-class\n",
    "                        metrics=[\"accuracy\"])"
   ]
  },
  {
   "cell_type": "code",
   "execution_count": 81,
   "metadata": {},
   "outputs": [
    {
     "name": "stdout",
     "output_type": "stream",
     "text": [
      "# Fit model on training data\n",
      "Epoch 1/5\n",
      "13/13 [==============================] - 15s 1s/step - loss: 12.7147 - accuracy: 0.2763 - val_loss: 6.5213 - val_accuracy: 0.2500\n",
      "Epoch 2/5\n",
      "13/13 [==============================] - 14s 1s/step - loss: 6.2926 - accuracy: 0.2763 - val_loss: 4.6262 - val_accuracy: 0.3187\n",
      "Epoch 3/5\n",
      "13/13 [==============================] - 14s 1s/step - loss: 4.4696 - accuracy: 0.3587 - val_loss: 4.0644 - val_accuracy: 0.3125\n",
      "Epoch 4/5\n",
      "13/13 [==============================] - 15s 1s/step - loss: 3.8060 - accuracy: 0.3762 - val_loss: 3.7167 - val_accuracy: 0.3562\n",
      "Epoch 5/5\n",
      "13/13 [==============================] - 15s 1s/step - loss: 3.5330 - accuracy: 0.4013 - val_loss: 3.4152 - val_accuracy: 0.3438\n"
     ]
    }
   ],
   "source": [
    "print('# Fit model on training data')\n",
    "\n",
    "history = huge_conv_model.fit(x_train, \n",
    "                    labels_train_categorical,\n",
    "                    batch_size=64, \n",
    "                    shuffle = True,\n",
    "                    epochs=5,\n",
    "                    validation_data=(x_valid, labels_valid_categorical))"
   ]
  },
  {
   "cell_type": "code",
   "execution_count": 212,
   "metadata": {},
   "outputs": [],
   "source": [
    "# Load and preprocess the test image\n",
    "test_image_path = 'C:/Users/alisa/Desktop/images/train/images/train/cat.66.jpg'\n",
    "test_image = pixels_from_path(test_image_path)\n",
    "test_image = test_image.reshape(1, *test_image.shape)  # Reshape to match model input shape\n",
    "test_image = test_image / 255.0  # Normalize pixel values"
   ]
  },
  {
   "cell_type": "code",
   "execution_count": 213,
   "metadata": {},
   "outputs": [
    {
     "name": "stdout",
     "output_type": "stream",
     "text": [
      "1/1 [==============================] - 0s 27ms/step\n"
     ]
    }
   ],
   "source": [
    "predictions = conv_model.predict(test_image)"
   ]
  },
  {
   "cell_type": "code",
   "execution_count": 214,
   "metadata": {},
   "outputs": [],
   "source": [
    "# Interpret the results\n",
    "predicted_class = np.argmax(predictions)\n",
    "class_labels = ['cat', 'dog', 'lion', 'tiger']\n",
    "predicted_label = class_labels[predicted_class]"
   ]
  },
  {
   "cell_type": "code",
   "execution_count": 215,
   "metadata": {},
   "outputs": [
    {
     "data": {
      "image/png": "[encoded data removed]",
      "text/plain": [
       "<Figure size 600x600 with 1 Axes>"
      ]
     },
     "metadata": {},
     "output_type": "display_data"
    }
   ],
   "source": [
    "# Display the test image and predicted label\n",
    "plt.figure(figsize=(6, 6))\n",
    "plt.imshow(test_image[0])\n",
    "plt.title(f\"Predicted: {predicted_label}\")\n",
    "plt.axis('off')\n",
    "plt.show()"
   ]
  },
  {
   "cell_type": "markdown",
   "metadata": {},
   "source": [
    "# Using Pretrained Model with Augmented Data"
   ]
  },
  {
   "cell_type": "markdown",
   "metadata": {},
   "source": [
    "- Performance improvement might be limited by the small dataset"
   ]
  },
  {
   "cell_type": "code",
   "execution_count": 113,
   "metadata": {},
   "outputs": [],
   "source": [
    "# Data augmentation\n",
    "datagen = ImageDataGenerator(\n",
    "    rotation_range=20,\n",
    "    width_shift_range=0.2,\n",
    "    height_shift_range=0.2,\n",
    "    horizontal_flip=True,\n",
    "    vertical_flip=True,\n",
    ")"
   ]
  },
  {
   "cell_type": "markdown",
   "metadata": {},
   "source": [
    "For above code:\n",
    "- Random rotation of the image by up to 20 degrees.\n",
    "- Random horizontal and vertical shifts of the image by up to 20% of its width and height.\n",
    "- Randomly flipping the image horizontally or vertically."
   ]
  },
  {
   "cell_type": "code",
   "execution_count": 114,
   "metadata": {},
   "outputs": [],
   "source": [
    "# Pretrained model\n",
    "base_model = VGG16(include_top=False, input_shape=(img_size[1], img_size[0], 3))\n",
    "for layer in base_model.layers:\n",
    "    layer.trainable = False"
   ]
  },
  {
   "cell_type": "markdown",
   "metadata": {},
   "source": [
    "- layer.trainable set to false = This freezes the layers, preventing them from being updated during training. Useful because the lower layers of the  model already contain useful feature extractors.\n",
    "- uses the VGG16 architecture as a pretrained model for feature extraction. The idea is to leverage the learned features from the VGG16 model.\n",
    "- include_top = False = Final fully connected layers are not included. To let us add own classification layer."
   ]
  },
  {
   "cell_type": "code",
   "execution_count": 115,
   "metadata": {},
   "outputs": [],
   "source": [
    "x = base_model.output\n",
    "x = layers.Flatten()(x)\n",
    "x = layers.Dense(fc_layer_size, activation='relu')(x)\n",
    "x = Dropout(0.5)(x)  # Dropout for regularization\n",
    "x = BatchNormalization()(x)  # Batch normalization\n",
    "outputs = layers.Dense(4, activation='softmax')(x)  # Use 'softmax' activation"
   ]
  },
  {
   "cell_type": "markdown",
   "metadata": {},
   "source": [
    "- Dropout (0.5) randomly sets a fraction of input units to 0 during training to prevent overfitting.\n",
    "- BatchNormalizaztion = added to normalize the activations of the previous layer, improving training stability.\n",
    "- Dense =  layer with a single unit and sigmoid activation is added for binary classification"
   ]
  },
  {
   "cell_type": "code",
   "execution_count": 116,
   "metadata": {},
   "outputs": [],
   "source": [
    "model = keras.Model(inputs=base_model.input, outputs=outputs)"
   ]
  },
  {
   "cell_type": "code",
   "execution_count": 117,
   "metadata": {},
   "outputs": [],
   "source": [
    "model.compile(optimizer='adam',\n",
    "              loss='categorical_crossentropy',  # Use categorical cross-entropy\n",
    "              metrics=['accuracy'])"
   ]
  },
  {
   "cell_type": "markdown",
   "metadata": {},
   "source": [
    "- adam optimizer is a widely used optimization algorithm.\n",
    "- binary_crossentropy = loss function"
   ]
  },
  {
   "cell_type": "markdown",
   "metadata": {},
   "source": [
    "FOR CODE BELOW:\n",
    "- datagen.flow function = generates batches of augmented training data.\n",
    "- steps_per_epoch parameter = determines how many batches are processed in each epoch.\n",
    "- epochs parameter = number of training epochs.\n",
    "- validation_data parameter = provides validation dataset to monitor performance during training."
   ]
  },
  {
   "cell_type": "code",
   "execution_count": 118,
   "metadata": {},
   "outputs": [
    {
     "name": "stdout",
     "output_type": "stream",
     "text": [
      "Epoch 1/50\n",
      "12/12 [==============================] - 16s 1s/step - loss: 1.2689 - accuracy: 0.5149 - val_loss: 1.8935 - val_accuracy: 0.7063\n",
      "Epoch 2/50\n",
      "12/12 [==============================] - 17s 1s/step - loss: 0.7858 - accuracy: 0.6861 - val_loss: 1.2916 - val_accuracy: 0.7750\n",
      "Epoch 3/50\n",
      "12/12 [==============================] - 18s 2s/step - loss: 0.6654 - accuracy: 0.7065 - val_loss: 0.8910 - val_accuracy: 0.8188\n",
      "Epoch 4/50\n",
      "12/12 [==============================] - 19s 2s/step - loss: 0.5782 - accuracy: 0.7500 - val_loss: 0.6505 - val_accuracy: 0.8375\n",
      "Epoch 5/50\n",
      "12/12 [==============================] - 20s 2s/step - loss: 0.5583 - accuracy: 0.7565 - val_loss: 0.5457 - val_accuracy: 0.8625\n",
      "Epoch 6/50\n",
      "12/12 [==============================] - 18s 2s/step - loss: 0.5905 - accuracy: 0.7595 - val_loss: 0.5603 - val_accuracy: 0.8562\n",
      "Epoch 7/50\n",
      "12/12 [==============================] - 18s 1s/step - loss: 0.5816 - accuracy: 0.7636 - val_loss: 0.5937 - val_accuracy: 0.8375\n",
      "Epoch 8/50\n",
      "12/12 [==============================] - 18s 1s/step - loss: 0.5219 - accuracy: 0.7894 - val_loss: 0.5640 - val_accuracy: 0.8375\n",
      "Epoch 9/50\n",
      "12/12 [==============================] - 17s 1s/step - loss: 0.5017 - accuracy: 0.7785 - val_loss: 0.5201 - val_accuracy: 0.8313\n",
      "Epoch 10/50\n",
      "12/12 [==============================] - 17s 1s/step - loss: 0.4645 - accuracy: 0.8111 - val_loss: 0.5306 - val_accuracy: 0.8375\n",
      "Epoch 11/50\n",
      "12/12 [==============================] - 17s 1s/step - loss: 0.4335 - accuracy: 0.8152 - val_loss: 0.5208 - val_accuracy: 0.8438\n",
      "Epoch 12/50\n",
      "12/12 [==============================] - 17s 1s/step - loss: 0.4688 - accuracy: 0.7989 - val_loss: 0.5591 - val_accuracy: 0.8438\n",
      "Epoch 13/50\n",
      "12/12 [==============================] - 17s 1s/step - loss: 0.4471 - accuracy: 0.8125 - val_loss: 0.4985 - val_accuracy: 0.8313\n",
      "Epoch 14/50\n",
      "12/12 [==============================] - 17s 1s/step - loss: 0.4452 - accuracy: 0.8139 - val_loss: 0.5074 - val_accuracy: 0.8500\n",
      "Epoch 15/50\n",
      "12/12 [==============================] - 17s 1s/step - loss: 0.3868 - accuracy: 0.8229 - val_loss: 0.5130 - val_accuracy: 0.8313\n",
      "Epoch 16/50\n",
      "12/12 [==============================] - 17s 1s/step - loss: 0.4370 - accuracy: 0.8071 - val_loss: 0.5030 - val_accuracy: 0.8250\n",
      "Epoch 17/50\n",
      "12/12 [==============================] - 17s 1s/step - loss: 0.3643 - accuracy: 0.8342 - val_loss: 0.5164 - val_accuracy: 0.8500\n",
      "Epoch 18/50\n",
      "12/12 [==============================] - 17s 1s/step - loss: 0.3918 - accuracy: 0.8274 - val_loss: 0.4866 - val_accuracy: 0.8438\n",
      "Epoch 19/50\n",
      "12/12 [==============================] - 17s 1s/step - loss: 0.3840 - accuracy: 0.8315 - val_loss: 0.4447 - val_accuracy: 0.8250\n",
      "Epoch 20/50\n",
      "12/12 [==============================] - 17s 1s/step - loss: 0.3803 - accuracy: 0.8315 - val_loss: 0.4547 - val_accuracy: 0.8375\n",
      "Epoch 21/50\n",
      "12/12 [==============================] - 17s 1s/step - loss: 0.3902 - accuracy: 0.8288 - val_loss: 0.5146 - val_accuracy: 0.8375\n",
      "Epoch 22/50\n",
      "12/12 [==============================] - 17s 1s/step - loss: 0.4266 - accuracy: 0.8370 - val_loss: 0.4832 - val_accuracy: 0.8250\n",
      "Epoch 23/50\n",
      "12/12 [==============================] - 17s 1s/step - loss: 0.3738 - accuracy: 0.8302 - val_loss: 0.4673 - val_accuracy: 0.8125\n",
      "Epoch 24/50\n",
      "12/12 [==============================] - 17s 1s/step - loss: 0.3613 - accuracy: 0.8424 - val_loss: 0.4547 - val_accuracy: 0.8375\n",
      "Epoch 25/50\n",
      "12/12 [==============================] - 17s 1s/step - loss: 0.3324 - accuracy: 0.8750 - val_loss: 0.4467 - val_accuracy: 0.8375\n",
      "Epoch 26/50\n",
      "12/12 [==============================] - 17s 1s/step - loss: 0.3841 - accuracy: 0.8342 - val_loss: 0.4362 - val_accuracy: 0.8250\n",
      "Epoch 27/50\n",
      "12/12 [==============================] - 17s 1s/step - loss: 0.3612 - accuracy: 0.8356 - val_loss: 0.4284 - val_accuracy: 0.8250\n",
      "Epoch 28/50\n",
      "12/12 [==============================] - 17s 1s/step - loss: 0.3513 - accuracy: 0.8438 - val_loss: 0.4348 - val_accuracy: 0.8313\n",
      "Epoch 29/50\n",
      "12/12 [==============================] - 17s 1s/step - loss: 0.3597 - accuracy: 0.8465 - val_loss: 0.4179 - val_accuracy: 0.8375\n",
      "Epoch 30/50\n",
      "12/12 [==============================] - 17s 1s/step - loss: 0.3605 - accuracy: 0.8397 - val_loss: 0.4538 - val_accuracy: 0.8438\n",
      "Epoch 31/50\n",
      "12/12 [==============================] - 17s 1s/step - loss: 0.3393 - accuracy: 0.8424 - val_loss: 0.4418 - val_accuracy: 0.8438\n",
      "Epoch 32/50\n",
      "12/12 [==============================] - 17s 1s/step - loss: 0.3327 - accuracy: 0.8682 - val_loss: 0.4241 - val_accuracy: 0.8438\n",
      "Epoch 33/50\n",
      "12/12 [==============================] - 17s 1s/step - loss: 0.3674 - accuracy: 0.8519 - val_loss: 0.4213 - val_accuracy: 0.8438\n",
      "Epoch 34/50\n",
      "12/12 [==============================] - 17s 1s/step - loss: 0.3480 - accuracy: 0.8573 - val_loss: 0.4426 - val_accuracy: 0.8313\n",
      "Epoch 35/50\n",
      "12/12 [==============================] - 17s 1s/step - loss: 0.3137 - accuracy: 0.8573 - val_loss: 0.4587 - val_accuracy: 0.8313\n",
      "Epoch 36/50\n",
      "12/12 [==============================] - 17s 1s/step - loss: 0.3351 - accuracy: 0.8628 - val_loss: 0.4688 - val_accuracy: 0.8250\n",
      "Epoch 37/50\n",
      "12/12 [==============================] - 17s 1s/step - loss: 0.3331 - accuracy: 0.8601 - val_loss: 0.4398 - val_accuracy: 0.8313\n",
      "Epoch 38/50\n",
      "12/12 [==============================] - 17s 1s/step - loss: 0.3166 - accuracy: 0.8709 - val_loss: 0.4173 - val_accuracy: 0.8250\n",
      "Epoch 39/50\n",
      "12/12 [==============================] - 17s 1s/step - loss: 0.2891 - accuracy: 0.8804 - val_loss: 0.4272 - val_accuracy: 0.8188\n",
      "Epoch 40/50\n",
      "12/12 [==============================] - 18s 1s/step - loss: 0.3324 - accuracy: 0.8633 - val_loss: 0.4450 - val_accuracy: 0.8188\n",
      "Epoch 41/50\n",
      "12/12 [==============================] - 17s 1s/step - loss: 0.3191 - accuracy: 0.8601 - val_loss: 0.4349 - val_accuracy: 0.8125\n",
      "Epoch 42/50\n",
      "12/12 [==============================] - 17s 1s/step - loss: 0.2930 - accuracy: 0.8777 - val_loss: 0.4097 - val_accuracy: 0.8313\n",
      "Epoch 43/50\n",
      "12/12 [==============================] - 17s 1s/step - loss: 0.3265 - accuracy: 0.8723 - val_loss: 0.3854 - val_accuracy: 0.8438\n",
      "Epoch 44/50\n",
      "12/12 [==============================] - 17s 1s/step - loss: 0.3121 - accuracy: 0.8709 - val_loss: 0.4340 - val_accuracy: 0.8313\n",
      "Epoch 45/50\n",
      "12/12 [==============================] - 18s 1s/step - loss: 0.3082 - accuracy: 0.8724 - val_loss: 0.4628 - val_accuracy: 0.8313\n",
      "Epoch 46/50\n",
      "12/12 [==============================] - 17s 1s/step - loss: 0.2988 - accuracy: 0.8696 - val_loss: 0.4378 - val_accuracy: 0.8500\n",
      "Epoch 47/50\n",
      "12/12 [==============================] - 17s 1s/step - loss: 0.2811 - accuracy: 0.8736 - val_loss: 0.4262 - val_accuracy: 0.8438\n",
      "Epoch 48/50\n",
      "12/12 [==============================] - 17s 1s/step - loss: 0.2791 - accuracy: 0.8872 - val_loss: 0.4364 - val_accuracy: 0.8375\n",
      "Epoch 49/50\n",
      "12/12 [==============================] - 18s 1s/step - loss: 0.3096 - accuracy: 0.8568 - val_loss: 0.4160 - val_accuracy: 0.8438\n",
      "Epoch 50/50\n",
      "12/12 [==============================] - 17s 1s/step - loss: 0.2895 - accuracy: 0.8791 - val_loss: 0.4111 - val_accuracy: 0.8562\n"
     ]
    }
   ],
   "source": [
    "# Training with data augmentation\n",
    "history = model.fit(datagen.flow(x_train, labels_train_categorical, batch_size=64),\n",
    "                    steps_per_epoch=len(x_train) // 64,\n",
    "                    epochs=50,\n",
    "                    validation_data=(x_valid, labels_valid_categorical),\n",
    "                    callbacks=[EarlyStopping(patience=10, restore_best_weights=True)])"
   ]
  },
  {
   "cell_type": "code",
   "execution_count": 143,
   "metadata": {},
   "outputs": [],
   "source": [
    "test_image_path = 'C:/Users/alisa/Desktop/images/train/images/train/cat.82.jpg'\n",
    "test_image = pixels_from_path(test_image_path)\n",
    "test_image = test_image.reshape(1, *test_image.shape)  # Reshape to match model input shape\n",
    "test_image = test_image / 255.0  # Normalize pixel values"
   ]
  },
  {
   "cell_type": "code",
   "execution_count": 144,
   "metadata": {},
   "outputs": [
    {
     "name": "stdout",
     "output_type": "stream",
     "text": [
      "1/1 [==============================] - 0s 59ms/step\n"
     ]
    }
   ],
   "source": [
    "predictions = model.predict(test_image)"
   ]
  },
  {
   "cell_type": "code",
   "execution_count": 145,
   "metadata": {},
   "outputs": [],
   "source": [
    "# Interpret the results\n",
    "predicted_class = np.argmax(predictions)\n",
    "class_labels = ['cat', 'dog', 'lion', 'tiger']  # Adjust as needed\n",
    "predicted_label = class_labels[predicted_class]"
   ]
  },
  {
   "cell_type": "code",
   "execution_count": null,
   "metadata": {},
   "outputs": [],
   "source": [
    "plt.figure(figsize=(6, 6))\n",
    "plt.imshow(test_image[0])\n",
    "plt.title(f\"Predicted: {predicted_label}\")\n",
    "plt.axis('off')\n",
    "plt.show()"
   ]
  },
  {
   "cell_type": "markdown",
   "metadata": {},
   "source": [
    "# Larger Model using Pretrained Model/Data Augmentation"
   ]
  },
  {
   "cell_type": "markdown",
   "metadata": {},
   "source": [
    "- Added an additional fully connected layer after the first one. This can allow the model to capture more complex relationships in the data.\n",
    "\n",
    "- Added an additional dropout layer after the new fully connected layer. This provides more regularization to prevent overfitting.\n",
    "\n",
    "- Applied batch normalization after the first fully connected layer. This can help stabilize and speed up training.\n",
    "\n",
    "- Kept the dropout after the original fully connected layer for regularization.\n",
    "\n",
    "- Maintained the pretrained VGG16 base model for feature extraction."
   ]
  },
  {
   "cell_type": "code",
   "execution_count": 165,
   "metadata": {},
   "outputs": [],
   "source": [
    "# Combine train and validation sets\n",
    "x_all = np.concatenate([x_train, x_valid])\n",
    "labels_all = np.concatenate([labels_train, labels_valid])"
   ]
  },
  {
   "cell_type": "code",
   "execution_count": 166,
   "metadata": {},
   "outputs": [],
   "source": [
    "# One-hot encode the labels\n",
    "num_classes = 4  # Number of classes (cats, dogs, lions, tigers)\n",
    "labels_all_categorical = to_categorical(labels_all, num_classes=num_classes)"
   ]
  },
  {
   "cell_type": "code",
   "execution_count": 167,
   "metadata": {},
   "outputs": [],
   "source": [
    "# Data augmentation\n",
    "datagen = ImageDataGenerator(\n",
    "    rotation_range=20,\n",
    "    width_shift_range=0.2,\n",
    "    height_shift_range=0.2,\n",
    "    horizontal_flip=True,\n",
    "    vertical_flip=True,\n",
    ")"
   ]
  },
  {
   "cell_type": "code",
   "execution_count": 168,
   "metadata": {},
   "outputs": [],
   "source": [
    "# Pretrained model\n",
    "base_model = VGG16(include_top=False, input_shape=(img_size[1], img_size[0], 3))\n",
    "for layer in base_model.layers:\n",
    "    layer.trainable = False"
   ]
  },
  {
   "cell_type": "code",
   "execution_count": 169,
   "metadata": {},
   "outputs": [],
   "source": [
    "x = base_model.output\n",
    "x = layers.Flatten()(x)\n",
    "x = layers.Dense(fc_layer_size, activation='relu')(x)\n",
    "x = Dropout(0.5)(x)  # Dropout for regularization\n",
    "x = BatchNormalization()(x)  # Batch normalization\n",
    "x = layers.Dense(fc_layer_size, activation='relu')(x)  # Additional fully connected layer\n",
    "x = Dropout(0.3)(x)  # Additional dropout\n",
    "outputs = layers.Dense(4, activation='softmax')(x)"
   ]
  },
  {
   "cell_type": "code",
   "execution_count": 170,
   "metadata": {},
   "outputs": [],
   "source": [
    "model = keras.Model(inputs=base_model.input, outputs=outputs)"
   ]
  },
  {
   "cell_type": "code",
   "execution_count": 171,
   "metadata": {},
   "outputs": [],
   "source": [
    "model.compile(optimizer='adam',\n",
    "              loss='categorical_crossentropy',  # Use categorical cross-entropy\n",
    "              metrics=['accuracy'])"
   ]
  },
  {
   "cell_type": "code",
   "execution_count": 173,
   "metadata": {},
   "outputs": [
    {
     "name": "stdout",
     "output_type": "stream",
     "text": [
      "Epoch 1/50\n",
      "15/15 [==============================] - 17s 1s/step - loss: 0.4084 - accuracy: 0.8229\n",
      "Epoch 2/50\n",
      "15/15 [==============================] - 19s 1s/step - loss: 0.3904 - accuracy: 0.8354\n",
      "Epoch 3/50\n",
      "15/15 [==============================] - 19s 1s/step - loss: 0.3963 - accuracy: 0.8417\n",
      "Epoch 4/50\n",
      "15/15 [==============================] - 18s 1s/step - loss: 0.4045 - accuracy: 0.8365\n",
      "Epoch 5/50\n",
      "15/15 [==============================] - 20s 1s/step - loss: 0.3848 - accuracy: 0.8406\n",
      "Epoch 6/50\n",
      "15/15 [==============================] - 19s 1s/step - loss: 0.3635 - accuracy: 0.8333\n",
      "Epoch 7/50\n",
      "15/15 [==============================] - 19s 1s/step - loss: 0.3737 - accuracy: 0.8354\n",
      "Epoch 8/50\n",
      "15/15 [==============================] - 19s 1s/step - loss: 0.4513 - accuracy: 0.8010\n",
      "Epoch 9/50\n",
      "15/15 [==============================] - 19s 1s/step - loss: 0.3920 - accuracy: 0.8281\n",
      "Epoch 10/50\n",
      "15/15 [==============================] - 19s 1s/step - loss: 0.3422 - accuracy: 0.8531\n",
      "Epoch 11/50\n",
      "15/15 [==============================] - 19s 1s/step - loss: 0.4048 - accuracy: 0.8385\n",
      "Epoch 12/50\n",
      "15/15 [==============================] - 18s 1s/step - loss: 0.3910 - accuracy: 0.8417\n",
      "Epoch 13/50\n",
      "15/15 [==============================] - 19s 1s/step - loss: 0.3840 - accuracy: 0.8396\n",
      "Epoch 14/50\n",
      "15/15 [==============================] - 19s 1s/step - loss: 0.3750 - accuracy: 0.8438\n",
      "Epoch 15/50\n",
      "15/15 [==============================] - 19s 1s/step - loss: 0.4027 - accuracy: 0.8344\n",
      "Epoch 16/50\n",
      "15/15 [==============================] - 19s 1s/step - loss: 0.3848 - accuracy: 0.8323\n",
      "Epoch 17/50\n",
      "15/15 [==============================] - 18s 1s/step - loss: 0.3892 - accuracy: 0.8146\n",
      "Epoch 18/50\n",
      "15/15 [==============================] - 19s 1s/step - loss: 0.3200 - accuracy: 0.8635\n",
      "Epoch 19/50\n",
      "15/15 [==============================] - 19s 1s/step - loss: 0.3649 - accuracy: 0.8438\n",
      "Epoch 20/50\n",
      "15/15 [==============================] - 19s 1s/step - loss: 0.3498 - accuracy: 0.8562\n",
      "Epoch 21/50\n",
      "15/15 [==============================] - 19s 1s/step - loss: 0.3398 - accuracy: 0.8656\n",
      "Epoch 22/50\n",
      "15/15 [==============================] - 19s 1s/step - loss: 0.3091 - accuracy: 0.8594\n",
      "Epoch 23/50\n",
      "15/15 [==============================] - 19s 1s/step - loss: 0.3695 - accuracy: 0.8458\n",
      "Epoch 24/50\n",
      "15/15 [==============================] - 19s 1s/step - loss: 0.3247 - accuracy: 0.8625\n",
      "Epoch 25/50\n",
      "15/15 [==============================] - 19s 1s/step - loss: 0.3208 - accuracy: 0.8396\n",
      "Epoch 26/50\n",
      "15/15 [==============================] - 18s 1s/step - loss: 0.3152 - accuracy: 0.8667\n",
      "Epoch 27/50\n",
      "15/15 [==============================] - 18s 1s/step - loss: 0.3287 - accuracy: 0.8677\n",
      "Epoch 28/50\n",
      "15/15 [==============================] - 19s 1s/step - loss: 0.3179 - accuracy: 0.8625\n",
      "Epoch 29/50\n",
      "15/15 [==============================] - 19s 1s/step - loss: 0.3149 - accuracy: 0.8656\n",
      "Epoch 30/50\n",
      "15/15 [==============================] - 19s 1s/step - loss: 0.3305 - accuracy: 0.8740\n",
      "Epoch 31/50\n",
      "15/15 [==============================] - 20s 1s/step - loss: 0.2886 - accuracy: 0.8698\n",
      "Epoch 32/50\n",
      "15/15 [==============================] - 21s 1s/step - loss: 0.2954 - accuracy: 0.8708\n",
      "Epoch 33/50\n",
      "15/15 [==============================] - 19s 1s/step - loss: 0.3283 - accuracy: 0.8646\n",
      "Epoch 34/50\n",
      "15/15 [==============================] - 20s 1s/step - loss: 0.2988 - accuracy: 0.8677\n",
      "Epoch 35/50\n",
      "15/15 [==============================] - 20s 1s/step - loss: 0.3428 - accuracy: 0.8542\n",
      "Epoch 36/50\n",
      "15/15 [==============================] - 19s 1s/step - loss: 0.3219 - accuracy: 0.8646\n",
      "Epoch 37/50\n",
      "15/15 [==============================] - 19s 1s/step - loss: 0.3098 - accuracy: 0.8729\n",
      "Epoch 38/50\n",
      "15/15 [==============================] - 18s 1s/step - loss: 0.3440 - accuracy: 0.8521\n",
      "Epoch 39/50\n",
      "15/15 [==============================] - 19s 1s/step - loss: 0.2771 - accuracy: 0.8771\n",
      "Epoch 40/50\n",
      "15/15 [==============================] - 19s 1s/step - loss: 0.3370 - accuracy: 0.8573\n",
      "Epoch 41/50\n",
      "15/15 [==============================] - 19s 1s/step - loss: 0.3353 - accuracy: 0.8490\n",
      "Epoch 42/50\n",
      "15/15 [==============================] - 18s 1s/step - loss: 0.3516 - accuracy: 0.8458\n",
      "Epoch 43/50\n",
      "15/15 [==============================] - 19s 1s/step - loss: 0.3197 - accuracy: 0.8583\n",
      "Epoch 44/50\n",
      "15/15 [==============================] - 19s 1s/step - loss: 0.3165 - accuracy: 0.8552\n",
      "Epoch 45/50\n",
      "15/15 [==============================] - 20s 1s/step - loss: 0.2994 - accuracy: 0.8750\n",
      "Epoch 46/50\n",
      "15/15 [==============================] - 20s 1s/step - loss: 0.2901 - accuracy: 0.8719\n",
      "Epoch 47/50\n",
      "15/15 [==============================] - 19s 1s/step - loss: 0.3162 - accuracy: 0.8656\n",
      "Epoch 48/50\n",
      "15/15 [==============================] - 19s 1s/step - loss: 0.2788 - accuracy: 0.8865\n",
      "Epoch 49/50\n",
      "15/15 [==============================] - 19s 1s/step - loss: 0.2864 - accuracy: 0.8656\n"
     ]
    }
   ],
   "source": [
    "# Training with data augmentation\n",
    "history = model.fit(datagen.flow(x_all, labels_all_categorical, batch_size=64),\n",
    "                    steps_per_epoch=len(x_all) // 64,\n",
    "                    epochs=50,\n",
    "                    callbacks=[EarlyStopping(monitor='loss', patience=10, restore_best_weights=True)])"
   ]
  },
  {
   "cell_type": "code",
   "execution_count": 180,
   "metadata": {},
   "outputs": [],
   "source": [
    "test_image_path = 'C:/Users/alisa/Desktop/images/train/images/train/cat.7321.jpg'\n",
    "test_image = pixels_from_path(test_image_path)\n",
    "test_image = test_image.reshape(1, *test_image.shape)  # Reshape to match model input shape\n",
    "test_image = test_image / 255.0  # Normalize pixel values"
   ]
  },
  {
   "cell_type": "code",
   "execution_count": 181,
   "metadata": {},
   "outputs": [
    {
     "name": "stdout",
     "output_type": "stream",
     "text": [
      "1/1 [==============================] - 0s 47ms/step\n"
     ]
    }
   ],
   "source": [
    "predictions = model.predict(test_image)"
   ]
  },
  {
   "cell_type": "code",
   "execution_count": 182,
   "metadata": {},
   "outputs": [],
   "source": [
    "# Interpret the results\n",
    "predicted_class = np.argmax(predictions)\n",
    "class_labels = ['cat', 'dog', 'lion', 'tiger']  # Adjust as needed\n",
    "predicted_label = class_labels[predicted_class]"
   ]
  },
  {
   "cell_type": "code",
   "execution_count": null,
   "metadata": {},
   "outputs": [],
   "source": [
    "plt.figure(figsize=(6, 6))\n",
    "plt.imshow(test_image[0])\n",
    "plt.title(f\"Predicted: {predicted_label}\")\n",
    "plt.axis('off')\n",
    "plt.show()"
   ]
  }
 ],
 "metadata": {
  "kernelspec": {
   "display_name": "Python 3",
   "language": "python",
   "name": "python3"
  },
  "language_info": {
   "codemirror_mode": {
    "name": "ipython",
    "version": 3
   },
   "file_extension": ".py",
   "mimetype": "text/x-python",
   "name": "python",
   "nbconvert_exporter": "python",
   "pygments_lexer": "ipython3",
   "version": "3.9.1"
  },
  "orig_nbformat": 4
 },
 "nbformat": 4,
 "nbformat_minor": 2
}
